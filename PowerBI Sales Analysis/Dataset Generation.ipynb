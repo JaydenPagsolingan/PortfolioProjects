{
 "cells": [
  {
   "cell_type": "code",
   "execution_count": null,
   "id": "60842330",
   "metadata": {},
   "outputs": [],
   "source": [
    "import pandas as pd\n",
    "import random\n",
    "import numpy as np"
   ]
  },
  {
   "cell_type": "code",
   "execution_count": null,
   "id": "d47bf354",
   "metadata": {},
   "outputs": [],
   "source": [
    "# *** Mean, STD, and skewed randomness throughout the project are developed through the help of ChatGPT*** "
   ]
  },
  {
   "cell_type": "code",
   "execution_count": null,
   "id": "caef97bd",
   "metadata": {},
   "outputs": [],
   "source": [
    "# Creating a customer df"
   ]
  },
  {
   "cell_type": "code",
   "execution_count": null,
   "id": "f437d539",
   "metadata": {},
   "outputs": [],
   "source": [
    "customer_df = pd.DataFrame(columns=[\"first_name\",\"last_name\",\"email\",\"age\",\"sex\"])"
   ]
  },
  {
   "cell_type": "code",
   "execution_count": null,
   "id": "86c91004",
   "metadata": {},
   "outputs": [],
   "source": [
    "customer_df"
   ]
  },
  {
   "cell_type": "code",
   "execution_count": null,
   "id": "c17cc86d",
   "metadata": {},
   "outputs": [],
   "source": [
    "# Used ChatGPT to generate 200 first names\n",
    "\n",
    "first_names = [\n",
    "    'Emma', 'Olivia', 'Ava', 'Isabella', 'Sophia', 'Charlotte', 'Mia', 'Amelia', 'Harper', 'Evelyn',\n",
    "    'Abigail', 'Emily', 'Elizabeth', 'Mila', 'Ella', 'Avery', 'Sofia', 'Camila', 'Aria', 'Scarlett',\n",
    "    'Victoria', 'Madison', 'Luna', 'Grace', 'Chloe', 'Penelope', 'Layla', 'Riley', 'Zoey', 'Nora',\n",
    "    'Lily', 'Eleanor', 'Hannah', 'Lillian', 'Addison', 'Aubrey', 'Ellie', 'Stella', 'Natalie', 'Zoe',\n",
    "    'Leah', 'Hazel', 'Violet', 'Aurora', 'Savannah', 'Audrey', 'Brooklyn', 'Bella', 'Claire', 'Skylar',\n",
    "    'Lucy', 'Paisley', 'Everly', 'Anna', 'Caroline', 'Nova', 'Genesis', 'Emilia', 'Kennedy', 'Samantha',\n",
    "    'Maya', 'Willow', 'Kinsley', 'Naomi', 'Aaliyah', 'Elena', 'Sarah', 'Ariana', 'Allison', 'Gabriella',\n",
    "    'Alice', 'Madelyn', 'Cora', 'Ruby', 'Eva', 'Sadie', 'Hailey', 'Autumn', 'Piper', 'Arianna', 'Kaylee',\n",
    "    'Ruby', 'Samantha', 'Nevaeh', 'Gianna', 'Charlotte', 'Serenity', 'Zara', 'Madison', 'Adeline', 'Maria',\n",
    "    'Fiona', 'Raegan', 'Katherine', 'Delilah', 'Jocelyn', 'Elise', 'Amara', 'Isabelle', 'Vivian', 'Elliana',\n",
    "    'Josephine', 'Lyla', 'Liliana', 'Julia', 'Valentina', 'Rebecca', 'Cecilia', 'Athena', 'Nova', 'Alaina',\n",
    "    'Anastasia', 'Harmony', 'Ximena', 'Emerson', 'Londyn', 'Gracie', 'Emersyn', 'Sienna', 'Everleigh', 'Annabelle',\n",
    "    'Alessandra', 'Leila', 'Daisy', 'Maeve', 'Ariella', 'Lia', 'Nadia', 'Mariana', 'Isla', 'Lila', 'Lena',\n",
    "    'Adelaide', 'Amina', 'Gemma', 'Myla', 'Lilly', 'Melody', 'Hallie', 'Kendall', 'Heidi', 'Zuri', 'Lyric',\n",
    "    'Eloise', 'Alexa', 'Natalia', 'Sage', 'Ember', 'Laura', 'Nina', 'Rowan', 'Sylvia', 'Esther', 'Angelina',\n",
    "    'Aurora', 'Tessa', 'Adaline', 'Felicity', 'Phoebe', 'Genevieve', 'Makayla', 'Freya', 'Harley', 'Elsie',\n",
    "    'Dahlia', 'Journey', 'Maddison', 'Adalyn', 'Malia', 'Catalina', 'Leia', 'Adrianna', 'Evangeline', 'Celeste',\n",
    "    'River', 'Brielle', 'Daniella', 'Lilah', 'Jacqueline', 'Annalise', 'Lucia', 'Aniyah', 'Talia', 'Mira', 'Eliza',\n",
    "    'Briella', 'Fernanda', 'April', 'Mae', 'Juliette', 'Salma', 'Vera', 'Alana', 'Mya', 'Rachel', 'Alivia', 'Miriam',\n",
    "    'Ashlyn', 'Alayna', 'Diana'\n",
    "]\n",
    "\n",
    "len(first_names)"
   ]
  },
  {
   "cell_type": "code",
   "execution_count": null,
   "id": "19d4e5dd",
   "metadata": {},
   "outputs": [],
   "source": [
    "# Create a first_name list to add to df\n",
    "\n",
    "first_names_list = []\n",
    "\n",
    "for i in range(0,3000):\n",
    "    rand_first_name = random.choice(first_names)\n",
    "    first_names_list.append(rand_first_name)"
   ]
  },
  {
   "cell_type": "code",
   "execution_count": null,
   "id": "5865b44f",
   "metadata": {},
   "outputs": [],
   "source": [
    "first_names_list"
   ]
  },
  {
   "cell_type": "code",
   "execution_count": null,
   "id": "99dc2e57",
   "metadata": {},
   "outputs": [],
   "source": [
    "# Add to df\n",
    "customer_df['first_name'] = first_names_list"
   ]
  },
  {
   "cell_type": "code",
   "execution_count": null,
   "id": "0aacb90e",
   "metadata": {},
   "outputs": [],
   "source": [
    "customer_df"
   ]
  },
  {
   "cell_type": "code",
   "execution_count": null,
   "id": "1542687f",
   "metadata": {},
   "outputs": [],
   "source": [
    "# last name\n",
    "# Used ChatGPT to generate 200 different last names\n",
    "last_names = [\n",
    "    'Smith', 'Johnson', 'Williams', 'Jones', 'Brown', 'Davis', 'Miller', 'Wilson', 'Moore', 'Taylor',\n",
    "    'Anderson', 'Thomas', 'Jackson', 'White', 'Harris', 'Martin', 'Thompson', 'Garcia', 'Martinez',\n",
    "    'Robinson', 'Clark', 'Rodriguez', 'Lewis', 'Lee', 'Walker', 'Hall', 'Allen', 'Young', 'Hernandez',\n",
    "    'King', 'Wright', 'Lopez', 'Hill', 'Scott', 'Green', 'Adams', 'Baker', 'Nelson', 'Carter', 'Mitchell',\n",
    "    'Perez', 'Roberts', 'Turner', 'Phillips', 'Campbell', 'Parker', 'Evans', 'Edwards', 'Collins', 'Stewart',\n",
    "    'Sanchez', 'Morris', 'Rogers', 'Reed', 'Cook', 'Morgan', 'Bell', 'Murphy', 'Bailey', 'Rivera', 'Cooper',\n",
    "    'Richardson', 'Cox', 'Howard', 'Ward', 'Torres', 'Peterson', 'Gray', 'Ramirez', 'James', 'Watson', 'Brooks',\n",
    "    'Kelly', 'Sanders', 'Price', 'Bennett', 'Wood', 'Barnes', 'Ross', 'Henderson', 'Coleman', 'Jenkins', 'Perry',\n",
    "    'Powell', 'Long', 'Patterson', 'Hughes', 'Flores', 'Washington', 'Butler', 'Simmons', 'Foster', 'Gonzalez',\n",
    "    'Bryant', 'Alexander', 'Russell', 'Griffin', 'Diaz', 'Hayes', 'Myers', 'Ford', 'Hamilton', 'Graham',\n",
    "    'Sullivan', 'Wallace', 'Woods', 'Cole', 'West', 'Jordan', 'Owens', 'Reynolds', 'Fisher', 'Ellis',\n",
    "    'Harrison', 'Gibson', 'McDonald', 'Cruz', 'Marshall', 'Ortiz', 'Gomez', 'Murray', 'Freeman', 'Wells',\n",
    "    'Webb', 'Simpson', 'Stevens', 'Tucker', 'Porter', 'Hunter', 'Hicks', 'Crawford', 'Henry', 'Boyd', 'Mason',\n",
    "    'Morales', 'Kennedy', 'Warren', 'Dixon', 'Ramos', 'Reyes', 'Burns', 'Gordon', 'Shaw', 'Holmes', 'Rice',\n",
    "    'Robertson', 'Hunt', 'Black', 'Daniels', 'Palmer', 'Mills', 'Nichols', 'Grant', 'Knight', 'Ferguson',\n",
    "    'Rose', 'Stone', 'Hawkins', 'Dunn', 'Perkins', 'Hudson', 'Spencer', 'Gardner', 'Stephens', 'Payne',\n",
    "    'Pierce', 'Berry', 'Matthews', 'Arnold', 'Wagner', 'Willis', 'Ray', 'Watkins', 'Olson', 'Carroll', 'Duncan',\n",
    "    'Snyder', 'Hart', 'Cunningham', 'Bradley', 'Lane', 'Andrews', 'Ruiz', 'Harper', 'Fox', 'Riley', 'Armstrong',\n",
    "    'Carpenter', 'Weaver', 'Greene', 'Lawrence', 'Elliott', 'Chavez', 'Sims', 'Austin', 'Peters', 'Kelley',\n",
    "    'Franklin', 'Lawson', 'Fields'\n",
    "    \n",
    "]\n",
    "\n",
    "len(last_names)"
   ]
  },
  {
   "cell_type": "code",
   "execution_count": null,
   "id": "ade56dc8",
   "metadata": {},
   "outputs": [],
   "source": [
    "# Create a Last_name list to add to df\n",
    "\n",
    "last_names_list = []\n",
    "\n",
    "for i in range(0,3000):\n",
    "    rand_last_name = random.choice(last_names)\n",
    "    last_names_list.append(rand_last_name)"
   ]
  },
  {
   "cell_type": "code",
   "execution_count": null,
   "id": "5061c9d3",
   "metadata": {},
   "outputs": [],
   "source": [
    "last_names_list"
   ]
  },
  {
   "cell_type": "code",
   "execution_count": null,
   "id": "15b42eb3",
   "metadata": {},
   "outputs": [],
   "source": [
    "customer_df['last_name'] = last_names_list"
   ]
  },
  {
   "cell_type": "code",
   "execution_count": null,
   "id": "c78a3d31",
   "metadata": {},
   "outputs": [],
   "source": [
    "customer_df"
   ]
  },
  {
   "cell_type": "code",
   "execution_count": null,
   "id": "c0438c79",
   "metadata": {},
   "outputs": [],
   "source": [
    "# Create emails for each customer\n",
    "\n",
    "emails_list = []\n",
    "\n",
    "for i in range(0,3000):\n",
    "    \n",
    "    flag = True\n",
    "    \n",
    "    while flag:\n",
    "        first_letter = customer_df['first_name'][i][0].lower()\n",
    "        last_name = customer_df['last_name'][i].lower()\n",
    "        rand_nums = random.randrange(1000,10000)\n",
    "        rand_email = f'{first_letter}{last_name}{rand_nums}@gmail.com'\n",
    "        \n",
    "        # Check if email already exists in the emails_list\n",
    "        if rand_email in emails_list:\n",
    "            continue\n",
    "        else:\n",
    "            emails_list.append(rand_email)\n",
    "            flag = False"
   ]
  },
  {
   "cell_type": "code",
   "execution_count": null,
   "id": "c1ff1e10",
   "metadata": {},
   "outputs": [],
   "source": [
    "emails_list"
   ]
  },
  {
   "cell_type": "code",
   "execution_count": null,
   "id": "5f13699f",
   "metadata": {},
   "outputs": [],
   "source": [
    "customer_df['email'] = emails_list"
   ]
  },
  {
   "cell_type": "code",
   "execution_count": null,
   "id": "363ef91f",
   "metadata": {},
   "outputs": [],
   "source": [
    "customer_df"
   ]
  },
  {
   "cell_type": "code",
   "execution_count": null,
   "id": "80f14acf",
   "metadata": {},
   "outputs": [],
   "source": [
    "# Check for dupes\n",
    "customer_df[customer_df.duplicated(subset=['email'])]"
   ]
  },
  {
   "cell_type": "code",
   "execution_count": null,
   "id": "be35a6f8",
   "metadata": {},
   "outputs": [],
   "source": [
    "# Generate random ages\n",
    "\n",
    "age_list = []\n",
    "\n",
    "# Parameters for the normal distribution\n",
    "mean_age = random.randint(18,78)  # ChatGPT\n",
    "std_dev_age = 10   # ChatGPT\n",
    "\n",
    "for i in range(3000):\n",
    "    rand_age = int(np.random.normal(mean_age, std_dev_age)) # ChatGPT\n",
    "    # Ensure generated ages are within the desired range.\n",
    "    # Ex/ If rand_age is 78, then it gets changed to the upper limit of 77\n",
    "    rand_age = max(min(rand_age, 77), 18) # ChatGPT\n",
    "    age_list.append(rand_age) \n"
   ]
  },
  {
   "cell_type": "code",
   "execution_count": null,
   "id": "0e818940",
   "metadata": {},
   "outputs": [],
   "source": [
    "age_list"
   ]
  },
  {
   "cell_type": "code",
   "execution_count": null,
   "id": "29d76bf8",
   "metadata": {},
   "outputs": [],
   "source": [
    "customer_df['age'] = age_list"
   ]
  },
  {
   "cell_type": "code",
   "execution_count": null,
   "id": "ec02f08e",
   "metadata": {},
   "outputs": [],
   "source": [
    "customer_df"
   ]
  },
  {
   "cell_type": "code",
   "execution_count": null,
   "id": "f49b0d1d",
   "metadata": {},
   "outputs": [],
   "source": [
    "# sex\n",
    "\n",
    "sex_list = []\n",
    "\n",
    "# I want the data to skew more towards either male or females\n",
    "sex_probability = random.random()\n",
    "\n",
    "for i in range(3000):\n",
    "    if random.random() < sex_probability:\n",
    "        rand_sex = \"male\"\n",
    "    else:\n",
    "        rand_sex = \"female\"\n",
    "    sex_list.append(rand_sex)"
   ]
  },
  {
   "cell_type": "code",
   "execution_count": null,
   "id": "953d87c5",
   "metadata": {},
   "outputs": [],
   "source": [
    "sex_list"
   ]
  },
  {
   "cell_type": "code",
   "execution_count": null,
   "id": "86d1b179",
   "metadata": {},
   "outputs": [],
   "source": [
    "# Add to df\n",
    "customer_df['sex'] = sex_list"
   ]
  },
  {
   "cell_type": "code",
   "execution_count": null,
   "id": "348d10f8",
   "metadata": {
    "scrolled": false
   },
   "outputs": [],
   "source": [
    "customer_df"
   ]
  },
  {
   "cell_type": "code",
   "execution_count": null,
   "id": "50214033",
   "metadata": {},
   "outputs": [],
   "source": [
    "# Import store excel file to get product SKUS\n",
    "store_df = pd.read_excel(r\"C:\\Users\\jayde\\OneDrive - San Diego State University (SDSU.EDU)\\Documents\\Abibas Project\\store.xlsx\")"
   ]
  },
  {
   "cell_type": "code",
   "execution_count": null,
   "id": "5adaf2c2",
   "metadata": {
    "scrolled": true
   },
   "outputs": [],
   "source": [
    "store_df"
   ]
  },
  {
   "cell_type": "code",
   "execution_count": null,
   "id": "c0bd044c",
   "metadata": {},
   "outputs": [],
   "source": [
    "# Create the sales df"
   ]
  },
  {
   "cell_type": "code",
   "execution_count": null,
   "id": "5f760729",
   "metadata": {},
   "outputs": [],
   "source": [
    "sales_df = pd.DataFrame(columns=[\"SKU\",\"units_sold\",\"sales_channel\",\"location\",\"customer_email\",\"date\"])"
   ]
  },
  {
   "cell_type": "code",
   "execution_count": null,
   "id": "b986725a",
   "metadata": {},
   "outputs": [],
   "source": [
    "sales_df"
   ]
  },
  {
   "cell_type": "code",
   "execution_count": null,
   "id": "77eb92d8",
   "metadata": {},
   "outputs": [],
   "source": [
    "# Create a list of 5,000 random SKU's from the store_df SKU column"
   ]
  },
  {
   "cell_type": "code",
   "execution_count": null,
   "id": "0b0d64dd",
   "metadata": {},
   "outputs": [],
   "source": [
    "sales_sku_list = []\n",
    "\n",
    "for i in range(10000):\n",
    "    random_sku = random.choice(store_df[\"SKU\"])\n",
    "    sales_sku_list.append(random_sku)\n",
    "\n",
    "print(sales_sku_list)"
   ]
  },
  {
   "cell_type": "code",
   "execution_count": null,
   "id": "25187aa6",
   "metadata": {},
   "outputs": [],
   "source": [
    "# Add SKU list to sales df\n",
    "sales_df[\"SKU\"] = sales_sku_list"
   ]
  },
  {
   "cell_type": "code",
   "execution_count": null,
   "id": "615aa779",
   "metadata": {},
   "outputs": [],
   "source": [
    "print(sales_df)"
   ]
  },
  {
   "cell_type": "code",
   "execution_count": null,
   "id": "7d3f312b",
   "metadata": {},
   "outputs": [],
   "source": [
    "# Create units_sold list to add to column\n",
    "units_sold_list = []\n",
    "\n",
    "# I want all SKUS to have random different mean units sold.\n",
    "\n",
    "# ChatGPT: \n",
    "# Generate random mean units sold for each SKU\n",
    "mean_units_sold = {}\n",
    "for sku in store_df['SKU']:\n",
    "    mean_units_sold[sku] = random.randint(0, 10000)\n",
    "\n",
    "for i in range(10000):\n",
    "    sku = sales_df[\"SKU\"][i]\n",
    "    rand_units_sold = int(random.normalvariate(mean_units_sold[sku], 100))  #ChatGPTed\n",
    "    units_sold_list.append(rand_units_sold)\n"
   ]
  },
  {
   "cell_type": "code",
   "execution_count": null,
   "id": "055766cc",
   "metadata": {
    "scrolled": true
   },
   "outputs": [],
   "source": [
    "units_sold_list"
   ]
  },
  {
   "cell_type": "code",
   "execution_count": null,
   "id": "44c17d04",
   "metadata": {},
   "outputs": [],
   "source": [
    "# Add to df\n",
    "sales_df[\"units_sold\"] = units_sold_list"
   ]
  },
  {
   "cell_type": "code",
   "execution_count": null,
   "id": "a99e3f0e",
   "metadata": {},
   "outputs": [],
   "source": [
    "sales_df"
   ]
  },
  {
   "cell_type": "code",
   "execution_count": null,
   "id": "d1a9d6b9",
   "metadata": {},
   "outputs": [],
   "source": [
    "# Create sales_channel list to add to column\n",
    "\n",
    "sales_channel_list = []\n",
    "sales_channel_options = [\"in-store\",\"online\"]\n",
    "\n",
    "sales_channel_probability = random.random()\n",
    "\n",
    "for i in range(0,10000):\n",
    "    if random.random() < sales_channel_probability:\n",
    "        rand_sales_channel = \"in-store\"\n",
    "    else:\n",
    "        rand_sales_channel = \"online\"\n",
    "    sales_channel_list.append(rand_sales_channel)"
   ]
  },
  {
   "cell_type": "code",
   "execution_count": null,
   "id": "b3aabdc5",
   "metadata": {
    "scrolled": true
   },
   "outputs": [],
   "source": [
    "sales_channel_list"
   ]
  },
  {
   "cell_type": "code",
   "execution_count": null,
   "id": "465f0747",
   "metadata": {},
   "outputs": [],
   "source": [
    "# Add sales_channel list to df\n",
    "sales_df[\"sales_channel\"] = sales_channel_list"
   ]
  },
  {
   "cell_type": "code",
   "execution_count": null,
   "id": "b6aac45d",
   "metadata": {},
   "outputs": [],
   "source": [
    "sales_df"
   ]
  },
  {
   "cell_type": "code",
   "execution_count": null,
   "id": "920b688d",
   "metadata": {},
   "outputs": [],
   "source": [
    "# Create location list to add to column\n",
    "\n",
    "location_list = []\n",
    "location_options = [\"La Mesa\",\"Mission Valley\", \"La Jolla\", \"Santee\", \"El Cajon\"]\n",
    "weights = [random.randint(1,5), random.randint(1,5), random.randint(1,5), random.randint(1,5), random.randint(1,5)] # ChatGPTed\n",
    "\n",
    "for i in range(0,10000):\n",
    "    rand_location = random.choices(location_options, weights=weights)[0] # ChatGPTed\n",
    "    location_list.append(rand_location)"
   ]
  },
  {
   "cell_type": "code",
   "execution_count": null,
   "id": "bd7a4883",
   "metadata": {},
   "outputs": [],
   "source": [
    "location_list"
   ]
  },
  {
   "cell_type": "code",
   "execution_count": null,
   "id": "24f766a3",
   "metadata": {},
   "outputs": [],
   "source": [
    "# Add location list to df\n",
    "sales_df[\"location\"] = location_list"
   ]
  },
  {
   "cell_type": "code",
   "execution_count": null,
   "id": "9626330f",
   "metadata": {},
   "outputs": [],
   "source": [
    "sales_df"
   ]
  },
  {
   "cell_type": "code",
   "execution_count": null,
   "id": "331fcb6a",
   "metadata": {},
   "outputs": [],
   "source": [
    "# Choose random emails from customer_df 10,000 times\n",
    "\n",
    "email_list = []\n",
    "\n",
    "for i in range(10000):\n",
    "    rand_email = random.choice(customer_df[\"email\"])\n",
    "    email_list.append(rand_email)"
   ]
  },
  {
   "cell_type": "code",
   "execution_count": null,
   "id": "f6aaf53f",
   "metadata": {},
   "outputs": [],
   "source": [
    "email_list"
   ]
  },
  {
   "cell_type": "code",
   "execution_count": null,
   "id": "33e8550d",
   "metadata": {},
   "outputs": [],
   "source": [
    "# Add to df\n",
    "sales_df[\"customer_email\"] = email_list"
   ]
  },
  {
   "cell_type": "code",
   "execution_count": null,
   "id": "6fc7fa9f",
   "metadata": {},
   "outputs": [],
   "source": [
    "sales_df"
   ]
  },
  {
   "cell_type": "code",
   "execution_count": null,
   "id": "ced3551e",
   "metadata": {
    "scrolled": true
   },
   "outputs": [],
   "source": [
    "# Random date\n",
    "date_list = []\n",
    "\n",
    "for i in range(0,10000):\n",
    "    rand_month = random.randint(1,12)\n",
    "    if rand_month == 1 or rand_month == 3 or rand_month == 5 or rand_month == 7 or rand_month == 8 or rand_month == 10 or rand_month == 12:\n",
    "        rand_day = random.randint(1,31)\n",
    "    elif rand_month == 2:\n",
    "        rand_day = random.randint(1,28)\n",
    "    else:\n",
    "        rand_day = random.randint(1,30)\n",
    "    rand_date = f'{rand_month}/{rand_day}/2023'\n",
    "    date_list.append(rand_date)"
   ]
  },
  {
   "cell_type": "code",
   "execution_count": null,
   "id": "b0c82c13",
   "metadata": {},
   "outputs": [],
   "source": [
    "date_list"
   ]
  },
  {
   "cell_type": "code",
   "execution_count": null,
   "id": "616057d4",
   "metadata": {},
   "outputs": [],
   "source": [
    "# Add to list\n",
    "sales_df[\"date\"] = date_list"
   ]
  },
  {
   "cell_type": "code",
   "execution_count": null,
   "id": "eb23b2e5",
   "metadata": {},
   "outputs": [],
   "source": [
    "sales_df"
   ]
  },
  {
   "cell_type": "code",
   "execution_count": null,
   "id": "d77e4b69",
   "metadata": {},
   "outputs": [],
   "source": [
    "# export sales_df as an excel file\n",
    "sales_df.to_excel(r\"C:\\Users\\jayde\\OneDrive - San Diego State University (SDSU.EDU)\\Documents\\Abibas Project\\sales.xlsx\")"
   ]
  },
  {
   "cell_type": "code",
   "execution_count": null,
   "id": "ac0a546b",
   "metadata": {},
   "outputs": [],
   "source": [
    "# export customer_df as an excel file\n",
    "customer_df.to_excel(r\"C:\\Users\\jayde\\OneDrive - San Diego State University (SDSU.EDU)\\Documents\\Abibas Project\\customer.xlsx\")"
   ]
  }
 ],
 "metadata": {
  "kernelspec": {
   "display_name": "Python 3 (ipykernel)",
   "language": "python",
   "name": "python3"
  },
  "language_info": {
   "codemirror_mode": {
    "name": "ipython",
    "version": 3
   },
   "file_extension": ".py",
   "mimetype": "text/x-python",
   "name": "python",
   "nbconvert_exporter": "python",
   "pygments_lexer": "ipython3",
   "version": "3.11.5"
  }
 },
 "nbformat": 4,
 "nbformat_minor": 5
}
